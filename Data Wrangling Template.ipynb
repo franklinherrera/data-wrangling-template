{
 "cells": [
  {
   "cell_type": "markdown",
   "metadata": {},
   "source": [
    "<h1 align=\"center\">Data Wrangling with Python</h1>\n",
    "\n",
    "<a href=\"http://www.franklinherrera.com/\"><img src=\"https://pbs.twimg.com/media/EW3MHkmXgAEOPjH?format=png&name=900x900\" align=\"center\" width=500></a>"
   ]
  },
  {
   "cell_type": "markdown",
   "metadata": {},
   "source": [
    "<h2>Table of Contents</h2>\n",
    "\n",
    "<ul>\n",
    "    <li><a href=\"#intro\">Introduction</a></li>\n",
    "    <li><a href=\"#wrangling\">Data Wrangling</a></li>\n",
    "    <li><a href=\"#eda\">Exploratory Data Analysis</a></li>\n",
    "</ul>"
   ]
  },
  {
   "cell_type": "markdown",
   "metadata": {},
   "source": [
    "<a id=\"intro\"></a>\n",
    "<h2>Introduction</h2>\n",
    "\n",
    "> Give an introduction of the dataset."
   ]
  },
  {
   "cell_type": "markdown",
   "metadata": {},
   "source": [
    "<a id='wrangling'></a>\n",
    "<h2>Data Wrangling</h2>\n",
    "\n",
    "It's the process of gathering data, assessing its quality and structure, and cleaning it before doing analysis, visualizations, or predictive models.\n",
    "\n",
    "<h3>Gathering and Loading Data</h3>\n",
    "\n",
    "> Data source: "
   ]
  },
  {
   "cell_type": "code",
   "execution_count": null,
   "metadata": {},
   "outputs": [],
   "source": [
    "#Import libraries to use\n",
    "import pandas as pd\n",
    "import numpy as np\n",
    "import matplotlib.pyplot as plt\n",
    "import seaborn as sb\n",
    "from scipy import stats\n",
    "\n",
    "%matplotlib inline"
   ]
  },
  {
   "cell_type": "code",
   "execution_count": null,
   "metadata": {},
   "outputs": [],
   "source": []
  },
  {
   "cell_type": "code",
   "execution_count": null,
   "metadata": {},
   "outputs": [],
   "source": []
  },
  {
   "cell_type": "code",
   "execution_count": null,
   "metadata": {},
   "outputs": [],
   "source": []
  },
  {
   "cell_type": "markdown",
   "metadata": {},
   "source": [
    "<h3>Assessing Data</h3>\n",
    "\n",
    "It's not exploring data. It's just making sure the data is in a form that makes our analysis easier.\n",
    "\n",
    "Common data quality issues:\n",
    "- Missing data\n",
    "- Invalid data (negatives, data types)\n",
    "- Innaccurate data\n",
    "- Inconsistent data\n",
    "\n",
    "Tidy Data:\n",
    "- Each variable forms a column\n",
    "- Each observation forms a row\n",
    "- Each type of observation unit forms a table"
   ]
  },
  {
   "cell_type": "code",
   "execution_count": null,
   "metadata": {},
   "outputs": [],
   "source": []
  },
  {
   "cell_type": "code",
   "execution_count": null,
   "metadata": {},
   "outputs": [],
   "source": []
  },
  {
   "cell_type": "code",
   "execution_count": null,
   "metadata": {},
   "outputs": [],
   "source": []
  },
  {
   "cell_type": "markdown",
   "metadata": {},
   "source": [
    "<h3>Cleaning Data</h3>\n",
    "\n",
    "It means acting on the assessments we made to improve quality and tidiness.\n",
    "\n",
    "- Define\n",
    "- Code\n",
    "- Test"
   ]
  },
  {
   "cell_type": "markdown",
   "metadata": {},
   "source": [
    "<a id='eda'></a>\n",
    "<h3>Exploratory Data Analysis</h3>\n",
    "\n",
    "It's the critical process of performing investigations on data so as to discover patterns, to spot anomalies (outliers), to test hypotheses, and to check assumptions with the help of summary statistics and graphical representations."
   ]
  },
  {
   "cell_type": "code",
   "execution_count": null,
   "metadata": {},
   "outputs": [],
   "source": []
  },
  {
   "cell_type": "code",
   "execution_count": null,
   "metadata": {},
   "outputs": [],
   "source": []
  },
  {
   "cell_type": "code",
   "execution_count": null,
   "metadata": {},
   "outputs": [],
   "source": []
  }
 ],
 "metadata": {
  "kernelspec": {
   "display_name": "Python 3",
   "language": "python",
   "name": "python3"
  },
  "language_info": {
   "codemirror_mode": {
    "name": "ipython",
    "version": 3
   },
   "file_extension": ".py",
   "mimetype": "text/x-python",
   "name": "python",
   "nbconvert_exporter": "python",
   "pygments_lexer": "ipython3",
   "version": "3.7.6"
  }
 },
 "nbformat": 4,
 "nbformat_minor": 4
}
